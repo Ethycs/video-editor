{
 "cells": [
  {
   "cell_type": "markdown",
   "metadata": {},
   "source": [
    "You might consider using a downloader to rip the first n seconds\n",
    "yt-dlp -x --audio-format mp3 --postprocessor-args \"-ss 0 -t 600\" -o \"custom_filename.%(ext)s\" https://www.youtube.com/watch?v=RzcrHxWHH-0\n"
   ]
  },
  {
   "cell_type": "code",
   "execution_count": null,
   "metadata": {},
   "outputs": [],
   "source": [
    "%pip install -r requirements.txt"
   ]
  },
  {
   "cell_type": "code",
   "execution_count": 13,
   "metadata": {},
   "outputs": [],
   "source": [
    "import cairo\n",
    "import math\n",
    "import numpy as np\n",
    "import multiprocessing as mp\n",
    "import imageio\n",
    "import random\n",
    "#import tqdm\n",
    "# from tqdm.notebook import tqdm\n",
    "from tqdm import tqdm\n",
    "from pydub import AudioSegment\n",
    "import subprocess\n",
    "import json\n",
    "\n",
    "import time"
   ]
  },
  {
   "cell_type": "code",
   "execution_count": 3,
   "metadata": {},
   "outputs": [],
   "source": [
    "WIDTH, HEIGHT = 512, 512  # Reduced size for faster processing\n",
    "SPIRAL_COLOR = (191, 0, 251)  # Green\n",
    "BG_COLOR = (0, 0, 0)  # Black\n",
    "SPIN_SPEED = 1.0\n",
    "THROB_SPEED = 1.0\n",
    "THROB_STRENGTH = 1.0\n",
    "ZOOM = 1.0\n"
   ]
  },
  {
   "cell_type": "code",
   "execution_count": 5,
   "metadata": {},
   "outputs": [],
   "source": [
    "def create_spiral_frame(time):\n",
    "    surface = cairo.ImageSurface(cairo.FORMAT_ARGB32, WIDTH, HEIGHT)\n",
    "    ctx = cairo.Context(surface)\n",
    "\n",
    "    # Fill background\n",
    "    ctx.set_source_rgb(*BG_COLOR)\n",
    "    ctx.paint()\n",
    "\n",
    "    for x in range(WIDTH):\n",
    "        for y in range(HEIGHT):\n",
    "            truPos_x = (x / WIDTH - 0.5) * 2\n",
    "            truPos_y = (y / HEIGHT - 0.5) * 2 * (HEIGHT / WIDTH)\n",
    "\n",
    "            angle = math.atan2(truPos_y, truPos_x)\n",
    "            dist = math.pow((truPos_x**2 + truPos_y**2)**0.5, 0.4 + math.sin((time + math.cos(time * 0.05) * 0.1) * THROB_SPEED) * 0.2)\n",
    "\n",
    "            spi_factor = math.pow(math.sin(angle + dist * 40 * ZOOM - time * 5 * SPIN_SPEED) + 1.0, 50)\n",
    "            spi_factor = max(0, min(spi_factor, 1))\n",
    "\n",
    "            r = SPIRAL_COLOR[0] * (1 - spi_factor) + BG_COLOR[0] * spi_factor\n",
    "            g = SPIRAL_COLOR[1] * (1 - spi_factor) + BG_COLOR[1] * spi_factor\n",
    "            b = SPIRAL_COLOR[2] * (1 - spi_factor) + BG_COLOR[2] * spi_factor\n",
    "\n",
    "            ctx.set_source_rgb(r, g, b)\n",
    "            ctx.rectangle(x, y, 1, 1)\n",
    "            ctx.fill()\n",
    "\n",
    "    # Convert Cairo surface to numpy array\n",
    "    buf = surface.get_data()\n",
    "    data = np.ndarray(shape=(HEIGHT, WIDTH, 4), dtype=np.uint8, buffer=buf)\n",
    "    return data[:, :, [2, 1, 0]]  # Convert BGRA to RGB\n"
   ]
  },
  {
   "cell_type": "code",
   "execution_count": null,
   "metadata": {},
   "outputs": [],
   "source": [
    "\n",
    "def create_animation(output_file, format='mp4'):\n",
    "    frames = []\n",
    "    total_frames = 60\n",
    "\n",
    "    # Create a progress bar\n",
    "    with tqdm(total=total_frames, desc=\"Creating frames\", unit=\"frame\") as pbar:\n",
    "        for i in range(total_frames):\n",
    "            time = i * 0.1\n",
    "            frame = create_spiral_frame(time)\n",
    "            frames.append(frame)\n",
    "            pbar.update(1)  # Update progress bar\n",
    "\n",
    "    print(\"Saving animation...\")\n",
    "    if format == 'mp4':\n",
    "        with imageio.get_writer(output_file, fps=30) as writer:\n",
    "            for frame in tqdm(frames, desc=\"Writing frames\", unit=\"frame\"):\n",
    "                writer.append_data(frame)\n",
    "    elif format == 'gif':\n",
    "        imageio.mimsave(output_file, frames, fps=30, progress_bar=True)\n",
    "    else:\n",
    "        raise ValueError(\"Unsupported format. Choose 'mp4' or 'gif'.\")\n",
    "\n",
    "    print(f\"Animation saved as {output_file}\")\n",
    "\n",
    "# Create MP4 video\n",
    "create_animation('spiral_animation.mp4', format='mp4')\n",
    "\n",
    "# Create GIF\n",
    "# create_animation('spiral_animation.gif', format='gif')"
   ]
  },
  {
   "cell_type": "code",
   "execution_count": 9,
   "metadata": {},
   "outputs": [],
   "source": [
    "def extract_random_segment(file_path, duration_seconds):\n",
    "    # Load the audio file\n",
    "    audio = AudioSegment.from_mp3(file_path)\n",
    "    \n",
    "    # Calculate the duration of the audio file in milliseconds\n",
    "    audio_length_ms = len(audio)\n",
    "    \n",
    "    # Calculate the duration of the segment in milliseconds\n",
    "    segment_length_ms = duration_seconds * 1000\n",
    "    \n",
    "    if segment_length_ms > audio_length_ms:\n",
    "        raise ValueError(\"Segment length is greater than the audio length.\")\n",
    "    \n",
    "    # Determine a random starting point for the segment\n",
    "    start_ms = random.randint(0, audio_length_ms - segment_length_ms)\n",
    "    \n",
    "    # Extract the segment\n",
    "    segment = audio[start_ms:start_ms + segment_length_ms]\n",
    "    \n",
    "    return segment\n",
    "\n",
    "# Example usage\n",
    "random_segment = extract_random_segment(r\"audio/Radio Chatter & Spaceship Patrol Flight in Saturn Ring. Sci-Fi Ambience for Sleep, Study, Relaxing [RzcrHxWHH-0].mp3\", 10)\n",
    "random_segment.export(r\"audio\\random_segment.mp3\", format=\"mp3\")\n"
   ]
  },
  {
   "cell_type": "code",
   "execution_count": 2,
   "metadata": {},
   "outputs": [],
   "source": [
    "file_path = r\"audio/Radio Chatter & Spaceship Patrol Flight in Saturn Ring. Sci-Fi Ambience for Sleep, Study, Relaxing [RzcrHxWHH-0].mp3\"\n",
    "audio = AudioSegment.from_mp3(file_path)"
   ]
  },
  {
   "cell_type": "code",
   "execution_count": 1,
   "metadata": {},
   "outputs": [
    {
     "ename": "SyntaxError",
     "evalue": "incomplete input (2864971077.py, line 42)",
     "output_type": "error",
     "traceback": [
      "\u001b[1;36m  Cell \u001b[1;32mIn[1], line 42\u001b[1;36m\u001b[0m\n\u001b[1;33m    with imageio.get_writer(output_file, fps=30\u001b[0m\n\u001b[1;37m                                               ^\u001b[0m\n\u001b[1;31mSyntaxError\u001b[0m\u001b[1;31m:\u001b[0m incomplete input\n"
     ]
    }
   ],
   "source": [
    "import multiprocessing\n",
    "import numpy as np\n",
    "import imageio\n",
    "from stub import process_chunk\n",
    "\n",
    "# Constants\n",
    "WIDTH, HEIGHT = 800, 600\n",
    "BG_COLOR = (0.1, 0.1, 0.1)\n",
    "SPIRAL_COLOR = (0.8, 0.8, 0.8)\n",
    "THROB_SPEED = 2.0\n",
    "ZOOM = 0.5\n",
    "SPIN_SPEED = 0.5\n",
    "\n",
    "def create_spiral_frame(time):\n",
    "    num_processes = multiprocessing.cpu_count()\n",
    "    chunk_size = HEIGHT // num_processes\n",
    "    \n",
    "    pool = multiprocessing.Pool(processes=num_processes)\n",
    "    \n",
    "    args = [(i * chunk_size, \n",
    "             min((i + 1) * chunk_size, HEIGHT), \n",
    "             WIDTH, HEIGHT, time, \n",
    "             BG_COLOR, SPIRAL_COLOR, \n",
    "             THROB_SPEED, ZOOM, SPIN_SPEED) \n",
    "            for i in range(num_processes)]\n",
    "    \n",
    "    results = pool.map(process_chunk, args)\n",
    "    \n",
    "    pool.close()\n",
    "    pool.join()\n",
    "    \n",
    "    return np.vstack(results)\n",
    "\n",
    "def create_animation(output_file, format='mp4'):\n",
    "    frames = []\n",
    "    for i in range(60):\n",
    "        time = i * 0.1\n",
    "        frame = create_spiral_frame(time)\n",
    "        frames.append(frame)\n",
    "\n",
    "    if format == 'mp4':\n",
    "        with imageio.get_writer(output_file, fps=30"
   ]
  },
  {
   "cell_type": "code",
   "execution_count": 4,
   "metadata": {},
   "outputs": [],
   "source": [
    "def create_frame_wrapper(args):\n",
    "    time, _ = args\n",
    "    return create_spiral_frame(time)\n",
    "\n",
    "def create_animation_parallel(output_file, format='mp4', num_processes=None):\n",
    "    if num_processes is None:\n",
    "        num_processes = mp.cpu_count()\n",
    "\n",
    "    pool = mp.Pool(processes=num_processes)\n",
    "    \n",
    "    times = [(i * 0.1, i) for i in range(60)]\n",
    "    frames = pool.map(create_frame_wrapper, times)\n",
    "\n",
    "    pool.close()\n",
    "    pool.join()\n",
    "\n",
    "    if format == 'mp4':\n",
    "        with imageio.get_writer(output_file, fps=30) as writer:\n",
    "            for frame in frames:\n",
    "                writer.append_data(frame)\n",
    "    elif format == 'gif':\n",
    "        imageio.mimsave(output_file, frames, fps=30)\n",
    "    else:\n",
    "        raise ValueError(\"Unsupported format. Choose 'mp4' or 'gif'.\")\n",
    "\n",
    "    print(f\"Animation saved as {output_file}\")\n",
    "\n",
    "if __name__ == \"__main__\":\n",
    "    # Create MP4 video\n",
    "    create_animation_parallel('spiral_animation.mp4', format='mp4')\n",
    "\n",
    "    # Create GIF\n",
    "    # create_animation_parallel('spiral_animation.gif', format='gif')"
   ]
  },
  {
   "cell_type": "code",
   "execution_count": 8,
   "metadata": {},
   "outputs": [
    {
     "name": "stderr",
     "output_type": "stream",
     "text": [
      "Generating frames:   0%|          | 0/60 [00:00<?, ?it/s]"
     ]
    }
   ],
   "source": [
    "def create_frame_wrapper(args):\n",
    "    time, _ = args\n",
    "    return create_spiral_frame(time)\n",
    "\n",
    "def create_animation_parallel(output_file, format='mp4', num_processes=None):\n",
    "    if num_processes is None:\n",
    "        num_processes = mp.cpu_count()\n",
    "\n",
    "    pool = mp.Pool(processes=num_processes)\n",
    "    \n",
    "    times = [(i * 0.1, i) for i in range(60)]\n",
    "    \n",
    "    # Use tqdm to create a progress bar\n",
    "    with tqdm(total=len(times), desc=\"Generating frames\") as pbar:\n",
    "        frames = []\n",
    "        for result in pool.imap(create_frame_wrapper, times):\n",
    "            frames.append(result)\n",
    "            pbar.update()\n",
    "\n",
    "    pool.close()\n",
    "    pool.join()\n",
    "\n",
    "    print(\"Saving animation...\")\n",
    "    if format == 'mp4':\n",
    "        with imageio.get_writer(output_file, fps=30) as writer:\n",
    "            for frame in tqdm(frames, desc=\"Writing frames\"):\n",
    "                writer.append_data(frame)\n",
    "    elif format == 'gif':\n",
    "        imageio.mimsave(output_file, frames, fps=30)\n",
    "    else:\n",
    "        raise ValueError(\"Unsupported format. Choose 'mp4' or 'gif'.\")\n",
    "\n",
    "    print(f\"Animation saved as {output_file}\")\n",
    "\n",
    "if __name__ == \"__main__\":\n",
    "    # Create MP4 video\n",
    "    create_animation_parallel('spiral_animation.mp4', format='mp4')"
   ]
  },
  {
   "cell_type": "code",
   "execution_count": 15,
   "metadata": {},
   "outputs": [],
   "source": [
    "def run_animation(output_file, format='mp4'):\n",
    "    process = subprocess.Popen(['python', 'stub.py', output_file, format], \n",
    "                               stdout=subprocess.PIPE, \n",
    "                               stderr=subprocess.PIPE,\n",
    "                               universal_newlines=True)\n",
    "    \n",
    "    pbar = tqdm(total=60, desc=\"Generating frames\")\n",
    "    \n",
    "    while True:\n",
    "        output = process.stdout.readline()\n",
    "        if output == '' and process.poll() is not None:\n",
    "            break\n",
    "        if output:\n",
    "            try:\n",
    "                data = json.loads(output.strip())\n",
    "                if data['status'] == 'complete':\n",
    "                    pbar.update(60 - pbar.n)  # Ensure the bar completes\n",
    "                    print(f\"Animation saved as {data['output_file']}\")\n",
    "                    break\n",
    "            except json.JSONDecodeError:\n",
    "                pass\n",
    "        pbar.update(1)\n",
    "        time.sleep(0.1)  # Small delay to prevent excessive CPU usage\n",
    "    \n",
    "    pbar.close()\n",
    "    rc = process.poll()\n",
    "    return rc"
   ]
  },
  {
   "cell_type": "code",
   "execution_count": 16,
   "metadata": {},
   "outputs": [
    {
     "name": "stderr",
     "output_type": "stream",
     "text": [
      "Generating frames: 100%|██████████| 60/60 [00:10<00:00,  5.77it/s]"
     ]
    },
    {
     "name": "stdout",
     "output_type": "stream",
     "text": [
      "Animation saved as spiral_animation.mp4\n"
     ]
    },
    {
     "name": "stderr",
     "output_type": "stream",
     "text": [
      "\n"
     ]
    }
   ],
   "source": [
    "# Cell 3: Run the animation\n",
    "# Create MP4 video\n",
    "run_animation('spiral_animation.mp4', format='mp4')\n",
    "\n",
    "# Uncomment to create GIF instead\n",
    "# run_animation('spiral_animation.gif', format='gif')"
   ]
  }
 ],
 "metadata": {
  "kernelspec": {
   "display_name": "av-env",
   "language": "python",
   "name": "python3"
  },
  "language_info": {
   "codemirror_mode": {
    "name": "ipython",
    "version": 3
   },
   "file_extension": ".py",
   "mimetype": "text/x-python",
   "name": "python",
   "nbconvert_exporter": "python",
   "pygments_lexer": "ipython3",
   "version": "3.12.4"
  }
 },
 "nbformat": 4,
 "nbformat_minor": 2
}
