{
 "cells": [
  {
   "cell_type": "markdown",
   "metadata": {},
   "source": [
    "You might consider using a downloader to rip the first n seconds\n",
    "yt-dlp -x --audio-format mp3 --postprocessor-args \"-ss 0 -t 600\" -o \"custom_filename.%(ext)s\" https://www.youtube.com/watch?v=RzcrHxWHH-0\n"
   ]
  },
  {
   "cell_type": "code",
   "execution_count": null,
   "metadata": {},
   "outputs": [],
   "source": [
    "%pip install -r requirements.txt"
   ]
  },
  {
   "cell_type": "code",
   "execution_count": 2,
   "metadata": {},
   "outputs": [],
   "source": [
    "import cairo\n",
    "import math\n",
    "import numpy as np\n",
    "import multiprocessing as mp\n",
    "import imageio\n",
    "import random\n",
    "#import tqdm\n",
    "# from tqdm.notebook import tqdm\n",
    "from tqdm import tqdm\n",
    "from pydub import AudioSegment\n",
    "import moviepy\n",
    "import subprocess\n",
    "import json\n",
    "\n",
    "import time"
   ]
  },
  {
   "cell_type": "code",
   "execution_count": 3,
   "metadata": {},
   "outputs": [],
   "source": [
    "WIDTH, HEIGHT = 512, 512  # Reduced size for faster processing\n",
    "SPIRAL_COLOR = (191, 0, 251)  # Green\n",
    "BG_COLOR = (0, 0, 0)  # Black\n",
    "SPIN_SPEED = 1.0\n",
    "THROB_SPEED = 1.0\n",
    "THROB_STRENGTH = 1.0\n",
    "ZOOM = 1.0\n",
    "# TODO Pickle this "
   ]
  },
  {
   "cell_type": "markdown",
   "metadata": {},
   "source": [
    "### Prototype Animation"
   ]
  },
  {
   "cell_type": "code",
   "execution_count": 5,
   "metadata": {},
   "outputs": [],
   "source": [
    "def create_spiral_frame(time):\n",
    "    surface = cairo.ImageSurface(cairo.FORMAT_ARGB32, WIDTH, HEIGHT)\n",
    "    ctx = cairo.Context(surface)\n",
    "\n",
    "    # Fill background\n",
    "    ctx.set_source_rgb(*BG_COLOR)\n",
    "    ctx.paint()\n",
    "\n",
    "    for x in range(WIDTH):\n",
    "        for y in range(HEIGHT):\n",
    "            truPos_x = (x / WIDTH - 0.5) * 2\n",
    "            truPos_y = (y / HEIGHT - 0.5) * 2 * (HEIGHT / WIDTH)\n",
    "\n",
    "            angle = math.atan2(truPos_y, truPos_x)\n",
    "            dist = math.pow((truPos_x**2 + truPos_y**2)**0.5, 0.4 + math.sin((time + math.cos(time * 0.05) * 0.1) * THROB_SPEED) * 0.2)\n",
    "\n",
    "            spi_factor = math.pow(math.sin(angle + dist * 40 * ZOOM - time * 5 * SPIN_SPEED) + 1.0, 50)\n",
    "            spi_factor = max(0, min(spi_factor, 1))\n",
    "\n",
    "            r = SPIRAL_COLOR[0] * (1 - spi_factor) + BG_COLOR[0] * spi_factor\n",
    "            g = SPIRAL_COLOR[1] * (1 - spi_factor) + BG_COLOR[1] * spi_factor\n",
    "            b = SPIRAL_COLOR[2] * (1 - spi_factor) + BG_COLOR[2] * spi_factor\n",
    "\n",
    "            ctx.set_source_rgb(r, g, b)\n",
    "            ctx.rectangle(x, y, 1, 1)\n",
    "            ctx.fill()\n",
    "\n",
    "    # Convert Cairo surface to numpy array\n",
    "    buf = surface.get_data()\n",
    "    data = np.ndarray(shape=(HEIGHT, WIDTH, 4), dtype=np.uint8, buffer=buf)\n",
    "    return data[:, :, [2, 1, 0]]  # Convert BGRA to RGB\n"
   ]
  },
  {
   "cell_type": "markdown",
   "metadata": {},
   "source": [
    "### Animation as MP4"
   ]
  },
  {
   "cell_type": "code",
   "execution_count": null,
   "metadata": {},
   "outputs": [],
   "source": [
    "\n",
    "def create_animation(output_file, format='mp4'):\n",
    "    frames = []\n",
    "    total_frames = 60\n",
    "\n",
    "    # Create a progress bar\n",
    "    with tqdm(total=total_frames, desc=\"Creating frames\", unit=\"frame\") as pbar:\n",
    "        for i in range(total_frames):\n",
    "            time = i * 0.1\n",
    "            frame = create_spiral_frame(time)\n",
    "            frames.append(frame)\n",
    "            pbar.update(1)  # Update progress bar\n",
    "\n",
    "    print(\"Saving animation...\")\n",
    "    if format == 'mp4':\n",
    "        with imageio.get_writer(output_file, fps=30) as writer:\n",
    "            for frame in tqdm(frames, desc=\"Writing frames\", unit=\"frame\"):\n",
    "                writer.append_data(frame)\n",
    "    elif format == 'gif':\n",
    "        imageio.mimsave(output_file, frames, fps=30, progress_bar=True)\n",
    "    else:\n",
    "        raise ValueError(\"Unsupported format. Choose 'mp4' or 'gif'.\")\n",
    "\n",
    "    print(f\"Animation saved as {output_file}\")\n",
    "\n",
    "# Create MP4 video\n",
    "create_animation('spiral_animation.mp4', format='mp4')\n",
    "\n",
    "# Create GIF\n",
    "# create_animation('spiral_animation.gif', format='gif')"
   ]
  },
  {
   "cell_type": "markdown",
   "metadata": {},
   "source": [
    "### Extract BGM Clip from file randomly v1"
   ]
  },
  {
   "cell_type": "code",
   "execution_count": 9,
   "metadata": {},
   "outputs": [],
   "source": [
    "def extract_random_segment(file_path, duration_seconds):\n",
    "    # Load the audio file\n",
    "    audio = AudioSegment.from_mp3(file_path) # This takes to long on very large files\n",
    "    # We could handle it with concurrent futures\n",
    "    \n",
    "    # Calculate the duration of the audio file in milliseconds\n",
    "    audio_length_ms = len(audio)\n",
    "    \n",
    "    # Calculate the duration of the segment in milliseconds\n",
    "    segment_length_ms = duration_seconds * 1000\n",
    "    \n",
    "    if segment_length_ms > audio_length_ms:\n",
    "        raise ValueError(\"Segment length is greater than the audio length.\")\n",
    "    \n",
    "    # Determine a random starting point for the segment\n",
    "    start_ms = random.randint(0, audio_length_ms - segment_length_ms)\n",
    "    \n",
    "    # Extract the segment\n",
    "    segment = audio[start_ms:start_ms + segment_length_ms]\n",
    "    \n",
    "    return segment\n",
    "\n",
    "# Example usage\n",
    "random_segment = extract_random_segment(r\"audio/Radio Chatter & Spaceship Patrol Flight in Saturn Ring. Sci-Fi Ambience for Sleep, Study, Relaxing [RzcrHxWHH-0].mp3\", 10)\n",
    "random_segment.export(r\"audio\\random_segment.mp3\", format=\"mp3\")\n"
   ]
  },
  {
   "cell_type": "code",
   "execution_count": 3,
   "metadata": {},
   "outputs": [],
   "source": [
    "file_path = r\"audio/RC Space Ambience.mp3\"\n",
    "audio = AudioSegment.from_mp3(file_path)"
   ]
  },
  {
   "cell_type": "markdown",
   "metadata": {},
   "source": [
    "#### Alternative with ffmpeg"
   ]
  },
  {
   "cell_type": "code",
   "execution_count": null,
   "metadata": {},
   "outputs": [],
   "source": [
    "def extract_random_segment_ffmpeg(file_path, duration_seconds, output_path):\n",
    "    # Get the audio file duration using ffmpeg\n",
    "    result = subprocess.run(\n",
    "        [\"ffmpeg\", \"-i\", file_path, \"-hide_banner\", \"-loglevel\", \"error\"],\n",
    "        capture_output=True,\n",
    "        text=True\n",
    "    )\n",
    "    \n",
    "    # Extract the duration from the result\n",
    "    for line in result.stderr.split('\\n'):\n",
    "        if 'Duration' in line:\n",
    "            duration_str = line.split(',')[0].split()[1]\n",
    "            h, m, s = duration_str.split(':')\n",
    "            audio_length_seconds = int(h) * 3600 + int(m) * 60 + float(s)\n",
    "            break\n",
    "    \n",
    "    if duration_seconds > audio_length_seconds:\n",
    "        raise ValueError(\"Segment length is greater than the audio length.\")\n",
    "    \n",
    "    # Determine a random starting point for the segment\n",
    "    start_seconds = random.uniform(0, audio_length_seconds - duration_seconds)\n",
    "    \n",
    "    # Use ffmpeg to extract the segment\n",
    "    subprocess.run([\n",
    "        \"ffmpeg\", \"-ss\", str(start_seconds), \"-i\", file_path,\n",
    "        \"-t\", str(duration_seconds), \"-c\", \"copy\", output_path,\n",
    "        \"-hide_banner\", \"-loglevel\", \"error\"\n",
    "    ])\n",
    "\n",
    "# Example usage\n",
    "extract_random_segment_ffmpeg(\n",
    "    r\"audio/Radio Chatter & Spaceship Patrol Flight in Saturn Ring. Sci-Fi Ambience for Sleep, Study, Relaxing [RzcrHxWHH-0].mp3\",\n",
    "    10,\n",
    "    r\"audio/random_segment.mp3\"\n",
    ")"
   ]
  },
  {
   "cell_type": "markdown",
   "metadata": {},
   "source": [
    "### Extract Audio Clip from file v1"
   ]
  },
  {
   "cell_type": "code",
   "execution_count": null,
   "metadata": {},
   "outputs": [],
   "source": [
    "def cut(start, end, file_path, output_name):\n",
    "    \"\"\"\n",
    "    Cut a segment from an audio file using ffmpeg.\n",
    "\n",
    "    :param start: Start time in seconds or in format HH:MM:SS.\n",
    "    :param end: End time in seconds or in format HH:MM:SS.\n",
    "    :param file_path: Path to the input audio file.\n",
    "    :param output_name: Name for the output audio file.\n",
    "    \"\"\"\n",
    "    try:\n",
    "        # Construct the ffmpeg command\n",
    "        command = [\n",
    "            \"ffmpeg\",\n",
    "            \"-i\", file_path,   # Input file\n",
    "            \"-ss\", str(start), # Start time\n",
    "            \"-to\", str(end),   # End time\n",
    "            \"-c\", \"copy\",      # Copy codec to avoid re-encoding\n",
    "            output_name        # Output file name\n",
    "        ]\n",
    "\n",
    "        # Run the command\n",
    "        subprocess.run(command, check=True)\n",
    "        print(f\"Segment from {start} to {end} has been saved as {output_name}\")\n",
    "\n",
    "    except subprocess.CalledProcessError as e:\n",
    "        print(f\"An error occurred: {e}\")\n",
    "\n",
    "# Example usage\n",
    "cut(\"00:01:00\", \"00:02:00\", \"audio/filename.mp3\", \"output_clip.mp3\")\n"
   ]
  },
  {
   "cell_type": "markdown",
   "metadata": {},
   "source": [
    "### Parallelized version of the Animation with multiprocessing\n",
    "Includes a notebook workaround for multiprocessing using a subprocess\n",
    "Must set options manually"
   ]
  },
  {
   "cell_type": "code",
   "execution_count": 15,
   "metadata": {},
   "outputs": [],
   "source": [
    "def run_animation(output_file, format='mp4'):\n",
    "    process = subprocess.Popen(['python', 'stub.py', output_file, format], \n",
    "                               stdout=subprocess.PIPE, \n",
    "                               stderr=subprocess.PIPE,\n",
    "                               universal_newlines=True)\n",
    "    \n",
    "    pbar = tqdm(total=60, desc=\"Generating frames\")\n",
    "    \n",
    "    while True:\n",
    "        output = process.stdout.readline()\n",
    "        if output == '' and process.poll() is not None:\n",
    "            break\n",
    "        if output:\n",
    "            try:\n",
    "                data = json.loads(output.strip())\n",
    "                if data['status'] == 'complete':\n",
    "                    pbar.update(60 - pbar.n)  # Ensure the bar completes\n",
    "                    print(f\"Animation saved as {data['output_file']}\")\n",
    "                    break\n",
    "            except json.JSONDecodeError:\n",
    "                pass\n",
    "        pbar.update(1)\n",
    "        time.sleep(0.1)  # Small delay to prevent excessive CPU usage\n",
    "    \n",
    "    pbar.close()\n",
    "    rc = process.poll()\n",
    "    return rc"
   ]
  },
  {
   "cell_type": "code",
   "execution_count": 16,
   "metadata": {},
   "outputs": [
    {
     "name": "stderr",
     "output_type": "stream",
     "text": [
      "Generating frames: 100%|██████████| 60/60 [00:10<00:00,  5.77it/s]"
     ]
    },
    {
     "name": "stdout",
     "output_type": "stream",
     "text": [
      "Animation saved as spiral_animation.mp4\n"
     ]
    },
    {
     "name": "stderr",
     "output_type": "stream",
     "text": [
      "\n"
     ]
    }
   ],
   "source": [
    "# Cell 3: Run the animation\n",
    "# Create MP4 video\n",
    "run_animation('spiral_animation.mp4', format='mp4')\n",
    "\n",
    "#TODO make a large resolution and one that is longer and can be looped\n",
    "# Play with the length and speed to make it similar to the original version. \n",
    "\n",
    "\n",
    "# Uncomment to create GIF instead\n",
    "# run_animation('spiral_animation.gif', format='gif')"
   ]
  },
  {
   "cell_type": "markdown",
   "metadata": {},
   "source": [
    "### Binaural Audio"
   ]
  },
  {
   "cell_type": "markdown",
   "metadata": {},
   "source": [
    "## Composition\n",
    "v1:\n",
    "* Audio and Video uncorrelated\n",
    "* No Binaural audio\n"
   ]
  },
  {
   "cell_type": "code",
   "execution_count": 5,
   "metadata": {},
   "outputs": [
    {
     "name": "stdout",
     "output_type": "stream",
     "text": [
      "Moviepy - Building video video/final_looped_video.mp4.\n",
      "MoviePy - Writing audio in final_looped_videoTEMP_MPY_wvf_snd.mp3\n"
     ]
    },
    {
     "name": "stderr",
     "output_type": "stream",
     "text": [
      "                                                                        \r"
     ]
    },
    {
     "name": "stdout",
     "output_type": "stream",
     "text": [
      "MoviePy - Done.\n",
      "Moviepy - Writing video video/final_looped_video.mp4\n",
      "\n"
     ]
    },
    {
     "name": "stderr",
     "output_type": "stream",
     "text": [
      "                                                                   \r"
     ]
    },
    {
     "name": "stdout",
     "output_type": "stream",
     "text": [
      "Moviepy - Done !\n",
      "Moviepy - video ready video/final_looped_video.mp4\n"
     ]
    }
   ],
   "source": [
    "# Combine the audio and video files.\n",
    "# Loop the video to match the audio duration.\n",
    "from moviepy.editor import VideoFileClip\n",
    "from moviepy.editor import AudioFileClip\n",
    "# Load the video\n",
    "video = VideoFileClip(\"spiral_animation.mp4\")\n",
    "video_duration = video.duration\n",
    "# Load the audio\n",
    "audio = AudioFileClip(\"audio/RC Space Ambience.mp3\")\n",
    "audio_duration = audio.duration\n",
    "# We want to get the ratio of audio and video\n",
    "# Assume that the audio is longer than the video\n",
    "repeats = round(audio_duration / video_duration)\n",
    "\n",
    "\n",
    "# Loop the video s.t. >= audio duration\n",
    "looped_video = video.loop(duration=audio_duration)\n",
    "# looped_video = looped_video.set_duration(audio_duration)\n",
    "looped_video = looped_video.set_audio(audio)\n",
    "\n",
    "# Save the looped video\n",
    "looped_video.write_videofile(\"video/final_looped_video.mp4\", codec='h264_nvenc', threads=8, ffmpeg_params=[\"-vcodec\", \"h264_nvenc\"])"
   ]
  },
  {
   "cell_type": "markdown",
   "metadata": {},
   "source": [
    "### Generate a perfect loop of our animation"
   ]
  }
 ],
 "metadata": {
  "kernelspec": {
   "display_name": "av-env",
   "language": "python",
   "name": "python3"
  },
  "language_info": {
   "codemirror_mode": {
    "name": "ipython",
    "version": 3
   },
   "file_extension": ".py",
   "mimetype": "text/x-python",
   "name": "python",
   "nbconvert_exporter": "python",
   "pygments_lexer": "ipython3",
   "version": "3.12.4"
  }
 },
 "nbformat": 4,
 "nbformat_minor": 2
}
