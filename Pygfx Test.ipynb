{
 "cells": [
  {
   "cell_type": "code",
   "execution_count": 2,
   "metadata": {},
   "outputs": [
    {
     "data": {
      "application/vnd.jupyter.widget-view+json": {
       "model_id": "37470603e3404ade9ea6b2cabc41bfe8",
       "version_major": 2,
       "version_minor": 0
      },
      "text/plain": [
       "RFBOutputContext()"
      ]
     },
     "metadata": {},
     "output_type": "display_data"
    },
    {
     "name": "stderr",
     "output_type": "stream",
     "text": [
      "Present error\n",
      "Traceback (most recent call last):\n",
      "  File \"c:\\Users\\Keytone\\miniconda3\\envs\\av-env\\Lib\\site-packages\\wgpu\\gui\\_gui_utils.py\", line 77, in log_exception\n",
      "    yield\n",
      "  File \"c:\\Users\\Keytone\\miniconda3\\envs\\av-env\\Lib\\site-packages\\wgpu\\gui\\base.py\", line 138, in _draw_frame_and_present\n",
      "    return self._canvas_context.present()\n",
      "           ^^^^^^^^^^^^^^^^^^^^^^^^^^^^^^\n",
      "  File \"c:\\Users\\Keytone\\miniconda3\\envs\\av-env\\Lib\\site-packages\\wgpu\\gui\\offscreen.py\", line 71, in present\n",
      "    raise RuntimeError(msg)\n",
      "RuntimeError: present() is called without a preceeding call to get_current_texture(). Note that present() is usually called automatically after the draw function returns.\n"
     ]
    },
    {
     "data": {
      "application/vnd.jupyter.widget-view+json": {
       "model_id": "b4ffc860646c440da40862e21aa7a7c9",
       "version_major": 2,
       "version_minor": 0
      },
      "text/html": [
       "<div class='snapshot-b4ffc860646c440da40862e21aa7a7c9' style='position:relative;'><img src='data:image/png;base64,iVBORw0KGgoAAAANSUhEUgAAAAEAAAABCAIAAACQd1PeAAAADElEQVR42mOor68HAAL+AX6E2KOJAAAAAElFTkSuQmCC' style='width:800.0px;height:600.0px;' /><div style='position: absolute; top:0; left:0; padding:1px 3px; background: #777; color:#fff; font-size: 90%; font-family:sans-serif; '>snapshot</div></div>"
      ],
      "text/plain": [
       "JupyterWgpuCanvas(css_height='600px', css_width='800px')"
      ]
     },
     "metadata": {},
     "output_type": "display_data"
    },
    {
     "name": "stderr",
     "output_type": "stream",
     "text": [
      "Draw error\n",
      "Traceback (most recent call last):\n",
      "  File \"c:\\Users\\Keytone\\miniconda3\\envs\\av-env\\Lib\\site-packages\\wgpu\\gui\\_gui_utils.py\", line 77, in log_exception\n",
      "    yield\n",
      "  File \"c:\\Users\\Keytone\\miniconda3\\envs\\av-env\\Lib\\site-packages\\wgpu\\gui\\base.py\", line 135, in _draw_frame_and_present\n",
      "    self.draw_frame()\n",
      "  File \"C:\\Users\\Keytone\\AppData\\Local\\Temp\\ipykernel_64268\\2815152949.py\", line 84, in animate\n",
      "    renderer.render(scene, camera)\n",
      "  File \"c:\\Users\\Keytone\\miniconda3\\envs\\av-env\\Lib\\site-packages\\pygfx\\renderers\\wgpu\\engine\\renderer.py\", line 511, in render\n",
      "    container_group = get_pipeline_container_group(wobject, environment)\n",
      "                      ^^^^^^^^^^^^^^^^^^^^^^^^^^^^^^^^^^^^^^^^^^^^^^^^^^\n",
      "  File \"c:\\Users\\Keytone\\miniconda3\\envs\\av-env\\Lib\\site-packages\\pygfx\\renderers\\wgpu\\engine\\pipeline.py\", line 159, in get_pipeline_container_group\n",
      "    pipeline_container_group.update(wobject, environment, changed_labels)\n",
      "  File \"c:\\Users\\Keytone\\miniconda3\\envs\\av-env\\Lib\\site-packages\\pygfx\\renderers\\wgpu\\engine\\pipeline.py\", line 192, in update\n",
      "    raise ValueError(\n",
      "ValueError: Could not get a render function for Mesh with CustomShader\n",
      "Present error: present() is called without a preceeding call to get_c… (2)\n"
     ]
    },
    {
     "data": {
      "application/vnd.jupyter.widget-view+json": {
       "model_id": "78ad7639a70f44fe8352a9af3bd84667",
       "version_major": 2,
       "version_minor": 0
      },
      "text/html": [
       "<div class='snapshot-78ad7639a70f44fe8352a9af3bd84667' style='position:relative;'><img src='data:image/png;base64,iVBORw0KGgoAAAANSUhEUgAAAAEAAAABCAIAAACQd1PeAAAADElEQVR42mOor68HAAL+AX6E2KOJAAAAAElFTkSuQmCC' style='width:800.0px;height:600.0px;' /><div style='position: absolute; top:0; left:0; padding:1px 3px; background: #777; color:#fff; font-size: 90%; font-family:sans-serif; '>snapshot</div></div>"
      ],
      "text/plain": [
       "JupyterWgpuCanvas(css_height='600px', css_width='800px')"
      ]
     },
     "metadata": {},
     "output_type": "display_data"
    }
   ],
   "source": [
    "import pygfx as gfx\n",
    "import numpy as np\n",
    "import wgpu\n",
    "from wgpu.gui.auto import WgpuCanvas, run\n",
    "\n",
    "class CustomShader(gfx.Material):\n",
    "    def __init__(self):\n",
    "        super().__init__()\n",
    "        self.spiral_color = (0, 1, 0)  # Green\n",
    "        self.bg_color = (0, 0, 0)  # Black\n",
    "        self.spin_speed = 1.0\n",
    "        self.throb_speed = 1.0\n",
    "        self.throb_strength = 1.0\n",
    "        self.zoom = 1.0\n",
    "        self.time = 0.0\n",
    "        self.i_res = (1024, 1024)\n",
    "\n",
    "    def get_code(self):\n",
    "        return \"\"\"\n",
    "        #define PI 3.1415926538\n",
    "\n",
    "        @vertex\n",
    "        fn vs_main(@location(0) position: vec3<f32>) -> @builtin(position) vec4<f32> {\n",
    "            return vec4<f32>(position, 1.0);\n",
    "        }\n",
    "\n",
    "        @fragment\n",
    "        fn fs_main(@builtin(position) pos: vec4<f32>) -> @location(0) vec4<f32> {\n",
    "            let iTime = u_time * 0.001;\n",
    "            let truPos = vec2<f32>(1.0, f32(u_i_res.y) / f32(u_i_res.x)) * (pos.xy / vec2<f32>(u_i_res) - vec2<f32>(0.5));\n",
    "\n",
    "            let angle = atan2(truPos.y, truPos.x);\n",
    "            let dist = pow(length(truPos), 0.4 + sin((iTime + cos(iTime * 0.05) * 0.1) * u_throb_speed) * 0.2);\n",
    "\n",
    "            var spiFactor = pow(sin(angle + dist * 40.0 * u_zoom - iTime * 5.0 * u_spin_speed) + 1.0, 50.0);\n",
    "            spiFactor = clamp(spiFactor, 0.0, 1.0);\n",
    "\n",
    "            let color = mix(u_spiral_color, u_bg_color, spiFactor);\n",
    "            return vec4<f32>(color, 1.0);\n",
    "        }\n",
    "        \"\"\"\n",
    "\n",
    "    def get_bindings(self, wobject, renderer):\n",
    "        return {\n",
    "            \"u_spiral_color\": self.spiral_color,\n",
    "            \"u_bg_color\": self.bg_color,\n",
    "            \"u_spin_speed\": self.spin_speed,\n",
    "            \"u_throb_speed\": self.throb_speed,\n",
    "            \"u_throb_strength\": self.throb_strength,\n",
    "            \"u_zoom\": self.zoom,\n",
    "            \"u_time\": self.time,\n",
    "            \"u_i_res\": self.i_res,\n",
    "        }\n",
    "\n",
    "# Create a custom shader material\n",
    "custom_shader = CustomShader()\n",
    "\n",
    "# Create a geometry for a full-screen quad\n",
    "geometry = gfx.Geometry(\n",
    "    positions=np.array([[-1, -1, 0], [1, -1, 0], [-1, 1, 0], [1, 1, 0]], dtype=np.float32),\n",
    "    indices=np.array([0, 1, 2, 1, 3, 2], dtype=np.uint32),\n",
    ")\n",
    "geometry.primitive_topology = \"triangle_list\"\n",
    "\n",
    "# Create a mesh using the geometry and custom shader\n",
    "quad = gfx.Mesh(geometry, custom_shader)\n",
    "\n",
    "# Create a scene and add the quad\n",
    "scene = gfx.Scene()\n",
    "scene.add(quad)\n",
    "\n",
    "# Create a camera (orthographic for full-screen quad)\n",
    "camera = gfx.OrthographicCamera(1, 1)\n",
    "\n",
    "# Create a canvas\n",
    "canvas = WgpuCanvas(size=(800, 600))\n",
    "\n",
    "# Create a renderer\n",
    "renderer = gfx.WgpuRenderer(canvas)\n",
    "\n",
    "# Render loop\n",
    "def animate():\n",
    "    custom_shader.time += 16.67  # Assuming 60 FPS\n",
    "    renderer.render(scene, camera)\n",
    "    canvas.request_draw()\n",
    "\n",
    "renderer.request_draw(animate)\n",
    "run()"
   ]
  }
 ],
 "metadata": {
  "kernelspec": {
   "display_name": "av-env",
   "language": "python",
   "name": "python3"
  },
  "language_info": {
   "codemirror_mode": {
    "name": "ipython",
    "version": 3
   },
   "file_extension": ".py",
   "mimetype": "text/x-python",
   "name": "python",
   "nbconvert_exporter": "python",
   "pygments_lexer": "ipython3",
   "version": "3.12.4"
  }
 },
 "nbformat": 4,
 "nbformat_minor": 2
}
