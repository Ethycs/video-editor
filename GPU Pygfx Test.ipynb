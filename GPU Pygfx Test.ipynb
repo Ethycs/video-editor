{
 "cells": [
  {
   "cell_type": "code",
   "execution_count": 7,
   "metadata": {},
   "outputs": [
    {
     "data": {
      "application/vnd.jupyter.widget-view+json": {
       "model_id": "3a54f0b2beb34165a82aecbe26528ff5",
       "version_major": 2,
       "version_minor": 0
      },
      "text/plain": [
       "RFBOutputContext()"
      ]
     },
     "metadata": {},
     "output_type": "display_data"
    },
    {
     "name": "stderr",
     "output_type": "stream",
     "text": [
      "Present error: present() is called without a preceeding call to get_c… (5)\n"
     ]
    },
    {
     "data": {
      "application/vnd.jupyter.widget-view+json": {
       "model_id": "322a31270a0c4b7e86451d6d9a20de6d",
       "version_major": 2,
       "version_minor": 0
      },
      "text/html": [
       "<div class='snapshot-322a31270a0c4b7e86451d6d9a20de6d' style='position:relative;'><img src='data:image/png;base64,iVBORw0KGgoAAAANSUhEUgAAAAEAAAABCAIAAACQd1PeAAAADElEQVR42mOor68HAAL+AX6E2KOJAAAAAElFTkSuQmCC' style='width:800.0px;height:600.0px;' /><div style='position: absolute; top:0; left:0; padding:1px 3px; background: #777; color:#fff; font-size: 90%; font-family:sans-serif; '>snapshot</div></div>"
      ],
      "text/plain": [
       "JupyterWgpuCanvas(css_height='600px', css_width='800px')"
      ]
     },
     "metadata": {},
     "output_type": "display_data"
    },
    {
     "ename": "AttributeError",
     "evalue": "'JupyterWgpuCanvas' object has no attribute 'request_animation'",
     "output_type": "error",
     "traceback": [
      "\u001b[1;31m---------------------------------------------------------------------------\u001b[0m",
      "\u001b[1;31mAttributeError\u001b[0m                            Traceback (most recent call last)",
      "Cell \u001b[1;32mIn[7], line 130\u001b[0m\n\u001b[0;32m    127\u001b[0m     canvas\u001b[38;5;241m.\u001b[39mrequest_draw()\n\u001b[0;32m    129\u001b[0m \u001b[38;5;66;03m# Start the animation\u001b[39;00m\n\u001b[1;32m--> 130\u001b[0m \u001b[43mcanvas\u001b[49m\u001b[38;5;241;43m.\u001b[39;49m\u001b[43mrequest_animation\u001b[49m(animate)\n",
      "\u001b[1;31mAttributeError\u001b[0m: 'JupyterWgpuCanvas' object has no attribute 'request_animation'"
     ]
    },
    {
     "name": "stderr",
     "output_type": "stream",
     "text": [
      "Present error: present() is called without a preceeding call to get_c… (6)\n",
      "Present error: present() is called without a preceeding call to get_c… (7)\n",
      "Present error: present() is called without a preceeding call to get_c… (8)\n",
      "Present error: present() is called without a preceeding call to get_c… (9)\n",
      "Present error: present() is called without a preceeding call to get_c… (10)\n",
      "Present error: present() is called without a preceeding call to get_c… (11)\n",
      "Present error: present() is called without a preceeding call to get_c… (12)\n",
      "Present error: present() is called without a preceeding call to get_c… (13)\n",
      "Present error: present() is called without a preceeding call to get_c… (14)\n",
      "Present error: present() is called without a preceeding call to get_c… (15)\n",
      "Present error: present() is called without a preceeding call to get_c… (16)\n"
     ]
    }
   ],
   "source": [
    "import pygfx as gfx\n",
    "import numpy as np\n",
    "import wgpu\n",
    "from wgpu.gui.auto import WgpuCanvas, run\n",
    "from IPython.display import display\n",
    "\n",
    "class CustomShader(gfx.Material):\n",
    "    def __init__(self):\n",
    "        super().__init__()\n",
    "        self.spiral_color = (0, 1, 0)  # Green\n",
    "        self.bg_color = (0, 0, 0)  # Black\n",
    "        self.spin_speed = 1.0\n",
    "        self.throb_speed = 1.0\n",
    "        self.throb_strength = 1.0\n",
    "        self.zoom = 1.0\n",
    "        self.time = 0.0\n",
    "        self.i_res = (1024, 1024)\n",
    "\n",
    "    def get_render_function(self, wobject, renderer):\n",
    "        code = self.get_code()\n",
    "        bindings = self.get_bindings(wobject, renderer)\n",
    "        \n",
    "        render_info = {\n",
    "            \"vertex_shader\": code,\n",
    "            \"fragment_shader\": code,\n",
    "            \"bindings\": bindings,\n",
    "        }\n",
    "        \n",
    "        return gfx.renderers.wgpu.render_functions.render_mesh, render_info\n",
    "\n",
    "    def get_code(self):\n",
    "        return \"\"\"\n",
    "        struct Uniforms {\n",
    "            u_spiral_color: vec3<f32>,\n",
    "            u_bg_color: vec3<f32>,\n",
    "            u_spin_speed: f32,\n",
    "            u_throb_speed: f32,\n",
    "            u_throb_strength: f32,\n",
    "            u_zoom: f32,\n",
    "            u_time: f32,\n",
    "            u_i_res: vec2<f32>,\n",
    "        };\n",
    "        @group(0) @binding(0) var<uniform> uniforms: Uniforms;\n",
    "\n",
    "        struct VertexInput {\n",
    "            @location(0) position: vec3<f32>,\n",
    "        };\n",
    "\n",
    "        struct VertexOutput {\n",
    "            @builtin(position) position: vec4<f32>,\n",
    "            @location(0) uv: vec2<f32>,\n",
    "        };\n",
    "\n",
    "        @vertex\n",
    "        fn vs_main(input: VertexInput) -> VertexOutput {\n",
    "            var output: VertexOutput;\n",
    "            output.position = vec4<f32>(input.position, 1.0);\n",
    "            output.uv = input.position.xy * 0.5 + 0.5;\n",
    "            return output;\n",
    "        }\n",
    "\n",
    "        @fragment\n",
    "        fn fs_main(input: VertexOutput) -> @location(0) vec4<f32> {\n",
    "            let iTime = uniforms.u_time * 0.001;\n",
    "            let truPos = vec2<f32>(1.0, uniforms.u_i_res.y / uniforms.u_i_res.x) * (input.uv - vec2<f32>(0.5));\n",
    "\n",
    "            let angle = atan2(truPos.y, truPos.x);\n",
    "            let dist = pow(length(truPos), 0.4 + sin((iTime + cos(iTime * 0.05) * 0.1) * uniforms.u_throb_speed) * 0.2);\n",
    "\n",
    "            var spiFactor = pow(sin(angle + dist * 40.0 * uniforms.u_zoom - iTime * 5.0 * uniforms.u_spin_speed) + 1.0, 50.0);\n",
    "            spiFactor = clamp(spiFactor, 0.0, 1.0);\n",
    "\n",
    "            let color = mix(uniforms.u_spiral_color, uniforms.u_bg_color, spiFactor);\n",
    "            return vec4<f32>(color, 1.0);\n",
    "        }\n",
    "        \"\"\"\n",
    "\n",
    "    def get_bindings(self, wobject, renderer):\n",
    "        return {\n",
    "            \"uniforms\": {\n",
    "                \"type\": \"uniform\",\n",
    "                \"struct\": {\n",
    "                    \"u_spiral_color\": self.spiral_color,\n",
    "                    \"u_bg_color\": self.bg_color,\n",
    "                    \"u_spin_speed\": self.spin_speed,\n",
    "                    \"u_throb_speed\": self.throb_speed,\n",
    "                    \"u_throb_strength\": self.throb_strength,\n",
    "                    \"u_zoom\": self.zoom,\n",
    "                    \"u_time\": self.time,\n",
    "                    \"u_i_res\": self.i_res,\n",
    "                },\n",
    "            }\n",
    "        }\n",
    "\n",
    "# Create a custom shader material\n",
    "custom_shader = CustomShader()\n",
    "\n",
    "# Create a geometry for a full-screen quad\n",
    "geometry = gfx.Geometry(\n",
    "    positions=np.array([[-1, -1, 0], [1, -1, 0], [-1, 1, 0], [1, 1, 0]], dtype=np.float32),\n",
    "    indices=np.array([0, 1, 2, 1, 3, 2], dtype=np.uint32),\n",
    ")\n",
    "\n",
    "# Create a mesh using the geometry and custom shader\n",
    "quad = gfx.Mesh(geometry, custom_shader)\n",
    "\n",
    "# Create a scene and add the quad\n",
    "scene = gfx.Scene()\n",
    "scene.add(quad)\n",
    "\n",
    "# Create a camera (orthographic for full-screen quad)\n",
    "camera = gfx.OrthographicCamera(2, 2)\n",
    "\n",
    "# Create a canvas\n",
    "canvas = WgpuCanvas(size=(800, 600))\n",
    "\n",
    "# Create a renderer\n",
    "renderer = gfx.WgpuRenderer(canvas)\n",
    "\n",
    "# Display the canvas\n",
    "display(canvas)\n",
    "\n",
    "# Render loop\n",
    "def animate(time):\n",
    "    custom_shader.time = time\n",
    "    renderer.render(scene, camera)\n",
    "    canvas.request_draw()\n",
    "\n",
    "# Start the animation\n",
    "canvas.request_animation(animate)"
   ]
  },
  {
   "cell_type": "markdown",
   "metadata": {},
   "source": [
    "## For debugging\n",
    "https://blog.jupyter.org/ipycanvas-a-python-canvas-for-jupyter-bbb51e4777f7\n",
    "\n",
    "https://docs.pygfx.org/stable/_autosummary/renderers/wgpu/pygfx.renderers.wgpu.WgpuRenderer.html\n",
    "\n",
    "https://docs.pygfx.org/stable/_gallery/index.html#introductory-examples"
   ]
  },
  {
   "cell_type": "code",
   "execution_count": 6,
   "metadata": {},
   "outputs": [
    {
     "name": "stdout",
     "output_type": "stream",
     "text": [
      "JupyterWgpuCanvas(css_height='600px', css_width='800px')\n"
     ]
    }
   ],
   "source": [
    "print(canvas)"
   ]
  }
 ],
 "metadata": {
  "kernelspec": {
   "display_name": "av-env",
   "language": "python",
   "name": "python3"
  },
  "language_info": {
   "codemirror_mode": {
    "name": "ipython",
    "version": 3
   },
   "file_extension": ".py",
   "mimetype": "text/x-python",
   "name": "python",
   "nbconvert_exporter": "python",
   "pygments_lexer": "ipython3",
   "version": "3.12.4"
  }
 },
 "nbformat": 4,
 "nbformat_minor": 2
}
